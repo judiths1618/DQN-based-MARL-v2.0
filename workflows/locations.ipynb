{
 "cells": [
  {
   "cell_type": "code",
   "execution_count": 35,
   "outputs": [],
   "source": [
    "# libraries\n",
    "# from mpl_toolkits.basemap import Basemap\n",
    "# import pandas as pd\n",
    "# import matplotlib.pyplot as plt\n",
    "# \n",
    "# # Make a data frame with the GPS of a few cities:\n",
    "# data = pd.DataFrame({\n",
    "# 'lat':[-119.93, -118.28, -90.95, -82.51, -118.12, -77.01],\n",
    "# 'lon':[33.8, 34.02, 30.57, 40.75, 34.13, 38.88],\n",
    "# 'name':['CyberShake', 'Epigenomics', 'LIGO Livingston Observatory', 'LIGO Hanford Observatory','Montage', 'Sipht']\n",
    "# })\n",
    "# \n",
    "# # A basic map\n",
    "# m=Basemap(llcrnrlon=-160, llcrnrlat=-75,urcrnrlon=160,urcrnrlat=80)\n",
    "# m.drawmapboundary(fill_color='#A6CAE0', linewidth=0)\n",
    "# m.fillcontinents(color='grey', alpha=0.7, lake_color='grey')\n",
    "# m.drawcoastlines(linewidth=0.1, color=\"white\")\n",
    "# \n",
    "# # Add a marker per city of the data frame!\n",
    "# m.plot(data['lat'], data['lon'], linestyle='none', marker=\"o\", markersize=16, alpha=0.6, c=\"orange\", markeredgecolor=\"black\", markeredgewidth=1)\n",
    "# plt.savefig('#location.png')"
   ],
   "metadata": {
    "collapsed": false,
    "pycharm": {
     "name": "#%%\n",
     "is_executing": false
    }
   }
  },
  {
   "cell_type": "code",
   "execution_count": 35,
   "outputs": [],
   "source": [],
   "metadata": {
    "collapsed": false,
    "pycharm": {
     "name": "#%%\n",
     "is_executing": false
    }
   }
  },
  {
   "cell_type": "code",
   "execution_count": 37,
   "outputs": [],
   "source": [
    "# libraries\n",
    "import pandas as pd\n",
    "import folium\n",
    "\n",
    "# Make a data frame with the GPS of a few cities:\n",
    "data = pd.DataFrame({\n",
    "'lat':[-119.93, -118.28, -90.95, -82.51, -118.12, -77.01],\n",
    "'lon':[33.8, 34.02, 30.57, 40.75, 34.13, 38.88],\n",
    "'name':['CyberShake', 'Epigenomics', 'LIGO Livingston Observatory', 'LIGO Hanford Observatory','Montage', 'Sipht']\n",
    "})\n",
    "\n",
    "m = folium.Map()\n",
    "# I can add marker one by one on the map\n",
    "for i in range(0,len(data)):\n",
    "    folium.Marker([data.iloc[i]['lon'], data.iloc[i]['lat']], popup=data.iloc[i]['name']).add_to(m)\n",
    "# Save it as html\n",
    "m.save('#Location1.html')"
   ],
   "metadata": {
    "collapsed": false,
    "pycharm": {
     "name": "#%%\n",
     "is_executing": false
    }
   }
  },
  {
   "cell_type": "code",
   "execution_count": 36,
   "outputs": [],
   "source": [
    "\n",
    "\n",
    "\n",
    "\n"
   ],
   "metadata": {
    "collapsed": false,
    "pycharm": {
     "name": "#%%\n",
     "is_executing": false
    }
   }
  }
 ],
 "metadata": {
  "kernelspec": {
   "display_name": "Python 3",
   "language": "python",
   "name": "python3"
  },
  "language_info": {
   "codemirror_mode": {
    "name": "ipython",
    "version": 3
   },
   "file_extension": ".py",
   "mimetype": "text/x-python",
   "name": "python",
   "nbconvert_exporter": "python",
   "pygments_lexer": "ipython3",
   "version": "3.7.5"
  },
  "pycharm": {
   "stem_cell": {
    "cell_type": "raw",
    "source": [],
    "metadata": {
     "collapsed": false
    }
   }
  }
 },
 "nbformat": 4,
 "nbformat_minor": 1
}